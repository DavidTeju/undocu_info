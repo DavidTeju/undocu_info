{
 "cells": [
  {
   "cell_type": "code",
   "id": "initial_id",
   "metadata": {
    "collapsed": true,
    "ExecuteTime": {
     "end_time": "2024-05-06T20:38:06.642622Z",
     "start_time": "2024-05-06T20:38:06.585757Z"
    }
   },
   "source": "import pandas as pd",
   "outputs": [],
   "execution_count": 83
  },
  {
   "metadata": {
    "ExecuteTime": {
     "end_time": "2024-05-06T20:38:06.779932Z",
     "start_time": "2024-05-06T20:38:06.647658Z"
    }
   },
   "cell_type": "code",
   "source": [
    "with open('data/school-states.json') as json_file:\n",
    "    with_state = pd.read_json(json_file)\n",
    "with_state.set_index('College Name', inplace=True)\n",
    "with_state.drop_duplicates(inplace=True)\n",
    "\n",
    "with_email = pd.read_csv('data/College Emails.csv')\n",
    "with_email.set_index('College', inplace=True)\n",
    "\n",
    "with_answers = pd.read_csv('data/CollegeDataTable.csv')\n",
    "with_answers.set_index('College Name', inplace=True)"
   ],
   "id": "4370f717110a4612",
   "outputs": [],
   "execution_count": 84
  },
  {
   "metadata": {
    "ExecuteTime": {
     "end_time": "2024-05-06T20:38:06.821472Z",
     "start_time": "2024-05-06T20:38:06.780916Z"
    }
   },
   "cell_type": "code",
   "source": [
    "with_email = with_email.groupby('College').agg({\n",
    "    'Email': list,\n",
    "    'Domain': 'first'\n",
    "})"
   ],
   "id": "60f7de65f91b0ca6",
   "outputs": [],
   "execution_count": 85
  },
  {
   "metadata": {
    "ExecuteTime": {
     "end_time": "2024-05-06T20:38:06.825998Z",
     "start_time": "2024-05-06T20:38:06.822398Z"
    }
   },
   "cell_type": "code",
   "source": "del with_answers['Domain'] # we already have this in the other dataframe",
   "id": "c02ca75756221504",
   "outputs": [],
   "execution_count": 86
  },
  {
   "metadata": {
    "ExecuteTime": {
     "end_time": "2024-05-06T20:38:06.844360Z",
     "start_time": "2024-05-06T20:38:06.828288Z"
    }
   },
   "cell_type": "code",
   "source": [
    "df = with_email.join(with_state)\n",
    "df = df.join(with_answers)\n",
    "df.index.name = 'College Name'"
   ],
   "id": "1d5b47c1383f7d1",
   "outputs": [],
   "execution_count": 87
  },
  {
   "metadata": {
    "ExecuteTime": {
     "end_time": "2024-05-06T20:38:06.849336Z",
     "start_time": "2024-05-06T20:38:06.845404Z"
    }
   },
   "cell_type": "code",
   "source": [
    "# little processing for json\n",
    "df.columns = df.columns.map(lambda x : x.lower())"
   ],
   "id": "a32625d3b74560ad",
   "outputs": [],
   "execution_count": 88
  },
  {
   "metadata": {
    "ExecuteTime": {
     "end_time": "2024-05-06T20:38:06.903900Z",
     "start_time": "2024-05-06T20:38:06.850600Z"
    }
   },
   "cell_type": "code",
   "source": [
    "df.to_json('data/college-data.json', orient='index')\n",
    "df.to_csv('data/college-data.csv')"
   ],
   "id": "25e5b52d4da63506",
   "outputs": [],
   "execution_count": 89
  }
 ],
 "metadata": {
  "kernelspec": {
   "display_name": "Python 3",
   "language": "python",
   "name": "python3"
  },
  "language_info": {
   "codemirror_mode": {
    "name": "ipython",
    "version": 2
   },
   "file_extension": ".py",
   "mimetype": "text/x-python",
   "name": "python",
   "nbconvert_exporter": "python",
   "pygments_lexer": "ipython2",
   "version": "2.7.6"
  }
 },
 "nbformat": 4,
 "nbformat_minor": 5
}
