{
 "cells": [
  {
   "cell_type": "code",
   "id": "initial_id",
   "metadata": {
    "collapsed": true,
    "ExecuteTime": {
     "end_time": "2024-05-19T08:52:05.253513Z",
     "start_time": "2024-05-19T08:52:05.227948Z"
    }
   },
   "source": [
    "import json\n",
    "\n",
    "import pandas as pd"
   ],
   "outputs": [],
   "execution_count": 43
  },
  {
   "metadata": {
    "ExecuteTime": {
     "end_time": "2024-05-19T08:52:05.352884Z",
     "start_time": "2024-05-19T08:52:05.262032Z"
    }
   },
   "cell_type": "code",
   "source": [
    "with open('data/school-states.json') as json_file:\n",
    "    with_state = pd.read_json(json_file)\n",
    "with_state.set_index('College Name', inplace=True)\n",
    "with_state.drop_duplicates(inplace=True)\n",
    "\n",
    "with_email = pd.read_csv('data/College Emails.csv')\n",
    "with_email.set_index('College', inplace=True)\n",
    "\n",
    "with_answers = pd.read_csv('data/CollegeDataTable.csv')\n",
    "with_answers.set_index('College Name', inplace=True)"
   ],
   "id": "4370f717110a4612",
   "outputs": [],
   "execution_count": 44
  },
  {
   "metadata": {
    "ExecuteTime": {
     "end_time": "2024-05-19T08:52:05.442847Z",
     "start_time": "2024-05-19T08:52:05.357334Z"
    }
   },
   "cell_type": "code",
   "source": [
    "with_email = with_email.groupby('College').agg({\n",
    "    'Email': list,\n",
    "    'Domain': 'first'\n",
    "})"
   ],
   "id": "60f7de65f91b0ca6",
   "outputs": [],
   "execution_count": 45
  },
  {
   "metadata": {
    "ExecuteTime": {
     "end_time": "2024-05-19T08:52:05.478471Z",
     "start_time": "2024-05-19T08:52:05.454829Z"
    }
   },
   "cell_type": "code",
   "source": "del with_answers['Domain'] # we already have this in the other dataframe",
   "id": "c02ca75756221504",
   "outputs": [],
   "execution_count": 46
  },
  {
   "metadata": {
    "ExecuteTime": {
     "end_time": "2024-05-19T08:52:05.572028Z",
     "start_time": "2024-05-19T08:52:05.527941Z"
    }
   },
   "cell_type": "code",
   "source": [
    "df = with_email.join(with_state).join(with_answers)\n",
    "df.index.name = 'College Name'"
   ],
   "id": "1d5b47c1383f7d1",
   "outputs": [],
   "execution_count": 47
  },
  {
   "metadata": {
    "ExecuteTime": {
     "end_time": "2024-05-19T08:52:05.634530Z",
     "start_time": "2024-05-19T08:52:05.591308Z"
    }
   },
   "cell_type": "code",
   "source": [
    "# little processing for json\n",
    "df.columns = df.columns.map(lambda x : x.lower())"
   ],
   "id": "a32625d3b74560ad",
   "outputs": [],
   "execution_count": 48
  },
  {
   "metadata": {
    "ExecuteTime": {
     "end_time": "2024-05-19T08:52:47.269592Z",
     "start_time": "2024-05-19T08:52:47.021934Z"
    }
   },
   "cell_type": "code",
   "source": [
    "# College Name should appear in the json\n",
    "df.reset_index(inplace=True)\n",
    "df.to_json('data/college-data.json', orient='records', indent=4)\n",
    "df.to_csv('data/college-data.csv')"
   ],
   "id": "25e5b52d4da63506",
   "outputs": [],
   "execution_count": 51
  },
  {
   "metadata": {
    "ExecuteTime": {
     "end_time": "2024-05-19T08:52:59.276312Z",
     "start_time": "2024-05-19T08:52:59.153350Z"
    }
   },
   "cell_type": "code",
   "source": [
    "with open('data/college-data.json') as json_file:\n",
    "    documents = json.load(json_file)\n",
    "    database_object = {\"schools\": documents}\n",
    "\n",
    "documents[0].keys()\n",
    "    \n",
    "# with open('data/college-data-collection.json', 'w') as json_file:\n",
    "#     json.dump(database_object, json_file)\n"
   ],
   "id": "cd77028779be5c8d",
   "outputs": [
    {
     "data": {
      "text/plain": [
       "dict_keys(['College Name', 'email', 'domain', 'state', 'are undocumented students considered international or domestic?', 'are you need-blind for undocumented students?', 'are there any restrictions on merit aid for undocumented students at your school?', 'does your school provide merit aid specially for undocumented students?', 'would you advise an undocumented student to reveal their status in their application or subsequent email?', 'how would their status affect their application?', 'is there a special contact point for undocumented students?', 'what other piece of advice would you give an undocumented student hoping for admission at your school?', 'other admissions information', 'are undocumented students eligible for need-based aid?', 'what financial aid application should undocumented students send? the css, fafsa, isfaa or a form unique to your school?', 'if need-based aid is not available, is there a feasible path undocumented students can take to pay for their education with stackable merit scholarships, loans and/or grants from your school?', \"what would be the requirements for such scholarships and what would a student's chances of getting them?\", 'other financial aid information', 'are there organized groups or clubs comprised of or advocating for undocumented students in your school?', 'how often does your office receive applications from undocumented students?', 'does your school allow immigration and customs enforcement (ice) officers onto campus without a warrant?', 'does the campus police enforce immigration law?', 'does your school share student immigration status with ice?', 'does your school provide distance-learning options for deported students to complete their degrees?', 'does your school provide confidential legal support to students with immigration law questions and issues?', 'other student life information', 'has undocu-student webpage', 'other information', 'special contact', 'gives aid?'])"
      ]
     },
     "execution_count": 52,
     "metadata": {},
     "output_type": "execute_result"
    }
   ],
   "execution_count": 52
  }
 ],
 "metadata": {
  "kernelspec": {
   "display_name": "Python 3",
   "language": "python",
   "name": "python3"
  },
  "language_info": {
   "codemirror_mode": {
    "name": "ipython",
    "version": 2
   },
   "file_extension": ".py",
   "mimetype": "text/x-python",
   "name": "python",
   "nbconvert_exporter": "python",
   "pygments_lexer": "ipython2",
   "version": "2.7.6"
  }
 },
 "nbformat": 4,
 "nbformat_minor": 5
}
